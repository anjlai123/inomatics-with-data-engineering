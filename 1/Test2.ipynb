{
 "cells": [
  {
   "cell_type": "code",
   "execution_count": 1,
   "id": "d82f501b-4fd1-4efb-88c9-0d15cdfe8f3e",
   "metadata": {},
   "outputs": [
    {
     "name": "stdout",
     "output_type": "stream",
     "text": [
      "Requirement already satisfied: pandas in c:\\users\\netin\\anaconda3\\lib\\site-packages (2.2.2)\n",
      "Requirement already satisfied: numpy>=1.26.0 in c:\\users\\netin\\anaconda3\\lib\\site-packages (from pandas) (1.26.4)\n",
      "Requirement already satisfied: python-dateutil>=2.8.2 in c:\\users\\netin\\anaconda3\\lib\\site-packages (from pandas) (2.9.0.post0)\n",
      "Requirement already satisfied: pytz>=2020.1 in c:\\users\\netin\\anaconda3\\lib\\site-packages (from pandas) (2024.1)\n",
      "Requirement already satisfied: tzdata>=2022.7 in c:\\users\\netin\\anaconda3\\lib\\site-packages (from pandas) (2023.3)\n",
      "Requirement already satisfied: six>=1.5 in c:\\users\\netin\\anaconda3\\lib\\site-packages (from python-dateutil>=2.8.2->pandas) (1.16.0)\n",
      "Note: you may need to restart the kernel to use updated packages.\n"
     ]
    }
   ],
   "source": [
    "pip install pandas"
   ]
  },
  {
   "cell_type": "code",
   "execution_count": null,
   "id": "1c0a00a3-9fb0-4fbc-a4b2-1d9ab193b9e3",
   "metadata": {},
   "outputs": [],
   "source": []
  },
  {
   "cell_type": "code",
   "execution_count": 16,
   "id": "64f2f707-8c7e-4b19-8a85-9fd4611741a3",
   "metadata": {},
   "outputs": [
    {
     "name": "stdout",
     "output_type": "stream",
     "text": [
      "Shape of movies.csv: (9742, 3)\n"
     ]
    }
   ],
   "source": [
    "import pandas as pd\n",
    "\n",
    "# Load the movies.csv file from an absolute path\n",
    "movies_df = pd.read_csv('C:\\\\Users\\\\netin\\\\OneDrive\\\\Documents\\\\1\\\\movies.csv')\n",
    "\n",
    "# Display the shape of the movies dataframe\n",
    "print(\"Shape of movies.csv:\", movies_df.shape)"
   ]
  },
  {
   "cell_type": "code",
   "execution_count": 14,
   "id": "06bf1286-fed1-4535-bd25-4a8f1fb7e872",
   "metadata": {},
   "outputs": [
    {
     "name": "stdout",
     "output_type": "stream",
     "text": [
      "Shape of ratings.csv: (100836, 4)\n"
     ]
    }
   ],
   "source": [
    "import pandas as pd\n",
    "\n",
    "# Load the ratings.csv file\n",
    "ratings_df = pd.read_csv('C:\\\\Users\\\\netin\\\\OneDrive\\\\Documents\\\\1\\\\ratings.csv')\n",
    "\n",
    "# Display the shape of the ratings dataframe\n",
    "print(\"Shape of ratings.csv:\", ratings_df.shape)"
   ]
  },
  {
   "cell_type": "code",
   "execution_count": 18,
   "id": "57097f62-820a-4715-b199-b3837e562fb4",
   "metadata": {},
   "outputs": [
    {
     "name": "stdout",
     "output_type": "stream",
     "text": [
      "Number of unique userId in ratings.csv: 610\n"
     ]
    }
   ],
   "source": [
    "import pandas as pd\n",
    "\n",
    "# Load the ratings.csv file\n",
    "ratings_df = pd.read_csv('C:\\\\Users\\\\netin\\\\OneDrive\\\\Documents\\\\1\\\\ratings.csv')\n",
    "\n",
    "# Get the number of unique userId values\n",
    "unique_user_ids = ratings_df['userId'].nunique()\n",
    "\n",
    "print(\"Number of unique userId in ratings.csv:\", unique_user_ids)"
   ]
  },
  {
   "cell_type": "code",
   "execution_count": 20,
   "id": "5fbc988a-20fa-400d-8f53-8fc21a8a8f60",
   "metadata": {},
   "outputs": [
    {
     "name": "stdout",
     "output_type": "stream",
     "text": [
      "The movie with the maximum number of user ratings is: Forrest Gump (1994)\n"
     ]
    }
   ],
   "source": [
    "import pandas as pd\n",
    "\n",
    "# Load the necessary CSV files\n",
    "movies_df = pd.read_csv('C:\\\\Users\\\\netin\\\\OneDrive\\\\Documents\\\\1\\\\movies.csv')\n",
    "ratings_df = pd.read_csv('C:\\\\Users\\\\netin\\\\OneDrive\\\\Documents\\\\1\\\\ratings.csv')\n",
    "\n",
    "# Count the number of ratings for each movieId\n",
    "ratings_count = ratings_df['movieId'].value_counts()\n",
    "\n",
    "# Find the movieId with the maximum number of ratings\n",
    "most_rated_movie_id = ratings_count.idxmax()\n",
    "\n",
    "# Get the title of the movie with the maximum number of ratings\n",
    "most_rated_movie_title = movies_df[movies_df['movieId'] == most_rated_movie_id]['title'].values[0]\n",
    "\n",
    "print(\"The movie with the maximum number of user ratings is:\", most_rated_movie_title)"
   ]
  },
  {
   "cell_type": "code",
   "execution_count": 22,
   "id": "12f32f28-8e26-4e1a-be2a-0af26c9e2ecf",
   "metadata": {},
   "outputs": [
    {
     "name": "stdout",
     "output_type": "stream",
     "text": [
      "   movieId                               title  \\\n",
      "0        1                    Toy Story (1995)   \n",
      "1        2                      Jumanji (1995)   \n",
      "2        3             Grumpier Old Men (1995)   \n",
      "3        4            Waiting to Exhale (1995)   \n",
      "4        5  Father of the Bride Part II (1995)   \n",
      "5        6                         Heat (1995)   \n",
      "6        7                      Sabrina (1995)   \n",
      "7        8                 Tom and Huck (1995)   \n",
      "8        9                 Sudden Death (1995)   \n",
      "9       10                    GoldenEye (1995)   \n",
      "\n",
      "                                        genres  \n",
      "0  Adventure|Animation|Children|Comedy|Fantasy  \n",
      "1                   Adventure|Children|Fantasy  \n",
      "2                               Comedy|Romance  \n",
      "3                         Comedy|Drama|Romance  \n",
      "4                                       Comedy  \n",
      "5                        Action|Crime|Thriller  \n",
      "6                               Comedy|Romance  \n",
      "7                           Adventure|Children  \n",
      "8                                       Action  \n",
      "9                    Action|Adventure|Thriller  \n"
     ]
    }
   ],
   "source": [
    "# Display the first few rows of the movies DataFrame to check titles\n",
    "print(movies_df.head(10))"
   ]
  },
  {
   "cell_type": "code",
   "execution_count": 48,
   "id": "ab0d1053-a4cf-49f3-9860-54d05521a114",
   "metadata": {},
   "outputs": [
    {
     "name": "stdout",
     "output_type": "stream",
     "text": [
      "Matching titles:       movieId                           title  \\\n",
      "1939     2571              Matrix, The (1999)   \n",
      "4351     6365     Matrix Reloaded, The (2003)   \n",
      "4639     6934  Matrix Revolutions, The (2003)   \n",
      "5669    27660           Animatrix, The (2003)   \n",
      "\n",
      "                                     genres  \n",
      "1939                 Action|Sci-Fi|Thriller  \n",
      "4351  Action|Adventure|Sci-Fi|Thriller|IMAX  \n",
      "4639  Action|Adventure|Sci-Fi|Thriller|IMAX  \n",
      "5669          Action|Animation|Drama|Sci-Fi  \n"
     ]
    }
   ],
   "source": [
    "# Search for titles containing 'Matrix'\n",
    "matrix_titles = movies_df[movies_df['title'].str.contains('matrix', case=False, na=False)]\n",
    "print(\"Matching titles:\",matrix_titles)"
   ]
  },
  {
   "cell_type": "code",
   "execution_count": 28,
   "id": "ac590eec-7848-4b56-8c86-9b99353b91f5",
   "metadata": {},
   "outputs": [
    {
     "name": "stdout",
     "output_type": "stream",
     "text": [
      "Matching titles after cleaning:       movieId                           title  \\\n",
      "1939     2571              Matrix, The (1999)   \n",
      "4351     6365     Matrix Reloaded, The (2003)   \n",
      "4639     6934  Matrix Revolutions, The (2003)   \n",
      "5669    27660           Animatrix, The (2003)   \n",
      "\n",
      "                                     genres  \n",
      "1939                 Action|Sci-Fi|Thriller  \n",
      "4351  Action|Adventure|Sci-Fi|Thriller|IMAX  \n",
      "4639  Action|Adventure|Sci-Fi|Thriller|IMAX  \n",
      "5669          Action|Animation|Drama|Sci-Fi  \n"
     ]
    }
   ],
   "source": [
    "# Strip any leading or trailing spaces in the titles\n",
    "movies_df['title'] = movies_df['title'].str.strip()\n",
    "\n",
    "# Search again after cleaning\n",
    "matrix_titles_cleaned = movies_df[movies_df['title'].str.contains('Matrix', case=False, na=False)]\n",
    "print(\"Matching titles after cleaning:\", matrix_titles_cleaned)"
   ]
  },
  {
   "cell_type": "code",
   "execution_count": 50,
   "id": "7c86c46b-3127-4111-baab-fddc1acb0593",
   "metadata": {},
   "outputs": [
    {
     "name": "stdout",
     "output_type": "stream",
     "text": [
      "Tags for 'Matrix, The (1999)': ['martial arts' 'sci-fi' 'alternate universe' 'philosophy'\n",
      " 'post apocalyptic']\n"
     ]
    }
   ],
   "source": [
    "import pandas as pd\n",
    "\n",
    "# Load the necessary CSV files\n",
    "movies_df = pd.read_csv('C:\\\\Users\\\\netin\\\\OneDrive\\\\Documents\\\\1\\\\movies.csv')\n",
    "tags_df = pd.read_csv('C:\\\\Users\\\\netin\\\\OneDrive\\\\Documents\\\\1\\\\tags.csv')\n",
    "\n",
    "# Strip any leading or trailing spaces in the titles\n",
    "movies_df['title'] = movies_df['title'].str.strip()\n",
    "\n",
    "# Find the movieId for \"Matrix, The (1999)\"\n",
    "matrix_movie_id = movies_df[movies_df['title'] == 'Matrix, The (1999)']['movieId'].values[0]\n",
    "\n",
    "# Get the tags associated with the movieId\n",
    "matrix_tags = tags_df[tags_df['movieId'] == matrix_movie_id]['tag'].unique()\n",
    "\n",
    "print(\"Tags for 'Matrix, The (1999)':\",matrix_tags)"
   ]
  },
  {
   "cell_type": "code",
   "execution_count": 52,
   "id": "015ecb0f-5f83-47b7-997c-d8c2425a68f3",
   "metadata": {},
   "outputs": [
    {
     "name": "stdout",
     "output_type": "stream",
     "text": [
      "Average rating for 'Terminator 2: Judgment Day (1991)': 3.970982142857143\n"
     ]
    }
   ],
   "source": [
    "import pandas as pd\n",
    "\n",
    "# Load the necessary CSV files\n",
    "movies_df = pd.read_csv('C:\\\\Users\\\\netin\\\\OneDrive\\\\Documents\\\\1\\\\movies.csv')\n",
    "ratings_df = pd.read_csv('C:\\\\Users\\\\netin\\\\OneDrive\\\\Documents\\\\1\\\\ratings.csv')\n",
    "\n",
    "# Strip any leading or trailing spaces in the titles\n",
    "movies_df['title'] = movies_df['title'].str.strip()\n",
    "\n",
    "# Get the movieId for \"Terminator 2: Judgment Day (1991)\"\n",
    "terminator_movie_id = movies_df[movies_df['title'] == 'Terminator 2: Judgment Day (1991)']['movieId'].values[0]\n",
    "\n",
    "# Filter ratings for this movieId\n",
    "terminator_ratings = ratings_df[ratings_df['movieId'] == terminator_movie_id]\n",
    "\n",
    "# Calculate the average rating\n",
    "average_rating = terminator_ratings['rating'].mean()\n",
    "\n",
    "print(\"Average rating for 'Terminator 2: Judgment Day (1991)':\",average_rating)"
   ]
  },
  {
   "cell_type": "code",
   "execution_count": 36,
   "id": "fc33b614-39eb-4116-b325-358f5664d8d4",
   "metadata": {},
   "outputs": [
    {
     "data": {
      "image/png": "[encoded data removed]",
      "text/plain": [
       "<Figure size 1000x600 with 1 Axes>"
      ]
     },
     "metadata": {},
     "output_type": "display_data"
    }
   ],
   "source": [
    "import pandas as pd\n",
    "import matplotlib.pyplot as plt\n",
    "import seaborn as sns\n",
    "\n",
    "# Load the necessary CSV files\n",
    "movies_df = pd.read_csv('C:\\\\Users\\\\netin\\\\OneDrive\\\\Documents\\\\1\\\\movies.csv')\n",
    "ratings_df = pd.read_csv('C:\\\\Users\\\\netin\\\\OneDrive\\\\Documents\\\\1\\\\ratings.csv')\n",
    "\n",
    "# Strip any leading or trailing spaces in the titles\n",
    "movies_df['title'] = movies_df['title'].str.strip()\n",
    "\n",
    "# Get the movieId for \"Fight Club (1999)\"\n",
    "fight_club_movie_id = movies_df[movies_df['title'] == 'Fight Club (1999)']['movieId'].values[0]\n",
    "\n",
    "# Filter ratings for this movieId\n",
    "fight_club_ratings = ratings_df[ratings_df['movieId'] == fight_club_movie_id]\n",
    "\n",
    "# Plot the distribution of ratings\n",
    "plt.figure(figsize=(10, 6))\n",
    "sns.histplot(fight_club_ratings['rating'], bins=10, kde=True)\n",
    "plt.title('Distribution of Ratings for \"Fight Club (1999)\"')\n",
    "plt.xlabel('Rating')\n",
    "plt.ylabel('Frequency')\n",
    "plt.show()"
   ]
  },
  {
   "cell_type": "code",
   "execution_count": 38,
   "id": "879c56eb-be2e-4b7b-a484-6c4f0c63291d",
   "metadata": {},
   "outputs": [
    {
     "name": "stdout",
     "output_type": "stream",
     "text": [
      "   movieId                    title  \\\n",
      "0        1         Toy Story (1995)   \n",
      "1        2           Jumanji (1995)   \n",
      "2        3  Grumpier Old Men (1995)   \n",
      "3        6              Heat (1995)   \n",
      "4        7           Sabrina (1995)   \n",
      "\n",
      "                                        genres  rating_count  average_rating  \n",
      "0  Adventure|Animation|Children|Comedy|Fantasy           215        3.920930  \n",
      "1                   Adventure|Children|Fantasy           110        3.431818  \n",
      "2                               Comedy|Romance            52        3.259615  \n",
      "3                        Action|Crime|Thriller           102        3.946078  \n",
      "4                               Comedy|Romance            54        3.185185  \n"
     ]
    }
   ],
   "source": [
    "import pandas as pd\n",
    "\n",
    "# Load the necessary CSV files\n",
    "movies_df = pd.read_csv('C:\\\\Users\\\\netin\\\\OneDrive\\\\Documents\\\\1\\\\movies.csv')\n",
    "ratings_df = pd.read_csv('C:\\\\Users\\\\netin\\\\OneDrive\\\\Documents\\\\1\\\\ratings.csv')\n",
    "\n",
    "# Group by movieId and calculate the count and mean of ratings\n",
    "ratings_grouped = ratings_df.groupby('movieId').agg(\n",
    "    rating_count=('rating', 'count'),\n",
    "    average_rating=('rating', 'mean')\n",
    ").reset_index()\n",
    "\n",
    "# Filter movies with more than 50 ratings\n",
    "ratings_filtered = ratings_grouped[ratings_grouped['rating_count'] > 50]\n",
    "\n",
    "# Join with the movies dataframe to get movie titles\n",
    "movies_filtered = pd.merge(movies_df, ratings_filtered, on='movieId')\n",
    "\n",
    "# Display the resulting dataframe\n",
    "print(movies_filtered.head())"
   ]
  },
  {
   "cell_type": "code",
   "execution_count": 40,
   "id": "068bdd19-d986-44ff-b566-a6dfa7ebe5a8",
   "metadata": {},
   "outputs": [
    {
     "name": "stdout",
     "output_type": "stream",
     "text": [
      "Most popular movie based on average user ratings:\n",
      "Title: Shawshank Redemption, The (1994)\n",
      "Average Rating: 4.429022082018927\n"
     ]
    }
   ],
   "source": [
    "import pandas as pd\n",
    "\n",
    "# Load the necessary CSV files\n",
    "movies_df = pd.read_csv('C:\\\\Users\\\\netin\\\\OneDrive\\\\Documents\\\\1\\\\movies.csv')\n",
    "ratings_df = pd.read_csv('C:\\\\Users\\\\netin\\\\OneDrive\\\\Documents\\\\1\\\\ratings.csv')\n",
    "\n",
    "# Group by movieId and calculate the count and mean of ratings\n",
    "ratings_grouped = ratings_df.groupby('movieId').agg(\n",
    "    rating_count=('rating', 'count'),\n",
    "    average_rating=('rating', 'mean')\n",
    ").reset_index()\n",
    "\n",
    "# Filter movies with more than 50 ratings\n",
    "ratings_filtered = ratings_grouped[ratings_grouped['rating_count'] > 50]\n",
    "\n",
    "# Join with the movies dataframe to get movie titles\n",
    "movies_filtered = pd.merge(movies_df, ratings_filtered, on='movieId')\n",
    "\n",
    "# Find the movie with the highest average rating\n",
    "most_popular_movie = movies_filtered.loc[movies_filtered['average_rating'].idxmax()]\n",
    "\n",
    "print(\"Most popular movie based on average user ratings:\")\n",
    "print(f\"Title: {most_popular_movie['title']}\")\n",
    "print(f\"Average Rating: {most_popular_movie['average_rating']}\")"
   ]
  },
  {
   "cell_type": "code",
   "execution_count": 42,
   "id": "7ee7d820-f645-43c5-a483-f620606f3ece",
   "metadata": {},
   "outputs": [
    {
     "name": "stdout",
     "output_type": "stream",
     "text": [
      "Top 5 popular movies based on number of user ratings:\n",
      "['Forrest Gump (1994)', 'Shawshank Redemption, The (1994)', 'Pulp Fiction (1994)', 'Silence of the Lambs, The (1991)', 'Matrix, The (1999)']\n",
      "\n",
      "Correct options among the provided list:\n",
      "['Pulp Fiction (1994)', 'Silence of the Lambs, The (1991)', 'Matrix, The (1999)']\n"
     ]
    }
   ],
   "source": [
    "import pandas as pd\n",
    "\n",
    "# Load the necessary CSV files\n",
    "movies_df = pd.read_csv('C:\\\\Users\\\\netin\\\\OneDrive\\\\Documents\\\\1\\\\movies.csv')\n",
    "ratings_df = pd.read_csv('C:\\\\Users\\\\netin\\\\OneDrive\\\\Documents\\\\1\\\\ratings.csv')\n",
    "\n",
    "# Group by movieId and calculate the count and mean of ratings\n",
    "ratings_grouped = ratings_df.groupby('movieId').agg(\n",
    "    rating_count=('rating', 'count'),\n",
    "    average_rating=('rating', 'mean')\n",
    ").reset_index()\n",
    "\n",
    "# Filter movies with more than 50 ratings\n",
    "ratings_filtered = ratings_grouped[ratings_grouped['rating_count'] > 50]\n",
    "\n",
    "# Join with the movies dataframe to get movie titles\n",
    "movies_filtered = pd.merge(movies_df, ratings_filtered, on='movieId')\n",
    "\n",
    "# Find the top 5 movies based on number of ratings\n",
    "top_5_movies = movies_filtered.nlargest(5, 'rating_count')\n",
    "\n",
    "# List of provided movie titles\n",
    "provided_titles = [\n",
    "    'Pulp Fiction (1994)',\n",
    "    'Bad Boys (1995)',\n",
    "    'Silence of the Lambs, The (1991)',\n",
    "    'Matrix, The (1999)'\n",
    "]\n",
    "\n",
    "# Check which of the provided movies are in the top 5\n",
    "top_movies_titles = top_5_movies['title'].tolist()\n",
    "correct_options = [title for title in provided_titles if title in top_movies_titles]\n",
    "\n",
    "print(\"Top 5 popular movies based on number of user ratings:\")\n",
    "print(top_movies_titles)\n",
    "\n",
    "print(\"\\nCorrect options among the provided list:\")\n",
    "print(correct_options)"
   ]
  },
  {
   "cell_type": "code",
   "execution_count": 44,
   "id": "7c710a6e-4967-4ebb-ba51-f3d5b1f71f6f",
   "metadata": {},
   "outputs": [
    {
     "name": "stdout",
     "output_type": "stream",
     "text": [
      "Third most popular Sci-Fi movie based on number of user ratings:\n",
      "Title: Jurassic Park (1993)\n",
      "Number of Ratings: 238\n"
     ]
    }
   ],
   "source": [
    "import pandas as pd\n",
    "\n",
    "# Load the necessary CSV files\n",
    "movies_df = pd.read_csv('C:\\\\Users\\\\netin\\\\OneDrive\\\\Documents\\\\1\\\\movies.csv')\n",
    "ratings_df = pd.read_csv('C:\\\\Users\\\\netin\\\\OneDrive\\\\Documents\\\\1\\\\ratings.csv')\n",
    "\n",
    "# Group by movieId and calculate the count and mean of ratings\n",
    "ratings_grouped = ratings_df.groupby('movieId').agg(\n",
    "    rating_count=('rating', 'count'),\n",
    "    average_rating=('rating', 'mean')\n",
    ").reset_index()\n",
    "\n",
    "# Filter movies with more than 50 ratings\n",
    "ratings_filtered = ratings_grouped[ratings_grouped['rating_count'] > 50]\n",
    "\n",
    "# Join with the movies dataframe to get movie titles\n",
    "movies_filtered = pd.merge(movies_df, ratings_filtered, on='movieId')\n",
    "\n",
    "# Filter Sci-Fi movies\n",
    "sci_fi_movies = movies_filtered[movies_filtered['genres'].str.contains('Sci-Fi', case=False, na=False)]\n",
    "\n",
    "# Find the third most popular Sci-Fi movie based on the number of ratings\n",
    "third_most_popular_sci_fi = sci_fi_movies.nlargest(3, 'rating_count').iloc[2]\n",
    "\n",
    "print(\"Third most popular Sci-Fi movie based on number of user ratings:\")\n",
    "print(f\"Title: {third_most_popular_sci_fi['title']}\")\n",
    "print(f\"Number of Ratings: {third_most_popular_sci_fi['rating_count']}\")"
   ]
  },
  {
   "cell_type": "code",
   "execution_count": null,
   "id": "b339117b-d9f4-4db1-a49b-308789646fe1",
   "metadata": {},
   "outputs": [],
   "source": []
  }
 ],
 "metadata": {
  "kernelspec": {
   "display_name": "Python 3 (ipykernel)",
   "language": "python",
   "name": "python3"
  },
  "language_info": {
   "codemirror_mode": {
    "name": "ipython",
    "version": 3
   },
   "file_extension": ".py",
   "mimetype": "text/x-python",
   "name": "python",
   "nbconvert_exporter": "python",
   "pygments_lexer": "ipython3",
   "version": "3.12.4"
  }
 },
 "nbformat": 4,
 "nbformat_minor": 5
}
